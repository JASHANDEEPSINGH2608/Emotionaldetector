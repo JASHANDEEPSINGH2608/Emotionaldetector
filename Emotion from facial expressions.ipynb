{
 "cells": [
  {
   "cell_type": "code",
   "execution_count": 1,
   "id": "a394533d",
   "metadata": {},
   "outputs": [
    {
     "name": "stdout",
     "output_type": "stream",
     "text": [
      "Requirement already satisfied: transformers in j:\\anaconda\\lib\\site-packages (2.1.1)Note: you may need to restart the kernel to use updated packages.\n",
      "\n",
      "Requirement already satisfied: opencv-python in j:\\anaconda\\lib\\site-packages (4.8.0.76)\n",
      "Collecting fer\n",
      "  Obtaining dependency information for fer from https://files.pythonhosted.org/packages/19/d7/cc5954aac8db0be7eaff31c5cd059c23af59391d228c9d09cead0250bdae/fer-22.5.1-py3-none-any.whl.metadata\n",
      "  Using cached fer-22.5.1-py3-none-any.whl.metadata (6.4 kB)\n",
      "Requirement already satisfied: numpy in j:\\anaconda\\lib\\site-packages (from transformers) (1.26.4)\n",
      "Requirement already satisfied: boto3 in j:\\anaconda\\lib\\site-packages (from transformers) (1.24.28)\n",
      "Requirement already satisfied: requests in j:\\anaconda\\lib\\site-packages (from transformers) (2.31.0)\n",
      "Requirement already satisfied: tqdm in j:\\anaconda\\lib\\site-packages (from transformers) (4.65.0)\n",
      "Requirement already satisfied: regex in j:\\anaconda\\lib\\site-packages (from transformers) (2022.7.9)\n",
      "Requirement already satisfied: sentencepiece in j:\\anaconda\\lib\\site-packages (from transformers) (0.2.0)\n",
      "Requirement already satisfied: sacremoses in j:\\anaconda\\lib\\site-packages (from transformers) (0.0.43)\n",
      "Requirement already satisfied: matplotlib in j:\\anaconda\\lib\\site-packages (from fer) (3.7.1)\n",
      "Requirement already satisfied: opencv-contrib-python in c:\\users\\jasha\\appdata\\roaming\\python\\python311\\site-packages (from fer) (4.10.0.84)\n",
      "Requirement already satisfied: keras>=2.0.0 in j:\\anaconda\\lib\\site-packages (from fer) (3.4.1)\n",
      "Requirement already satisfied: pandas in j:\\anaconda\\lib\\site-packages (from fer) (1.5.3)\n",
      "Collecting facenet-pytorch (from fer)\n",
      "  Obtaining dependency information for facenet-pytorch from https://files.pythonhosted.org/packages/ed/2e/2d56386bc2f834cdc683743903852cf1428b4e5ee119f16cf808b589d3cd/facenet_pytorch-2.6.0-py3-none-any.whl.metadata\n",
      "  Using cached facenet_pytorch-2.6.0-py3-none-any.whl.metadata (12 kB)\n",
      "Collecting moviepy (from fer)\n",
      "  Using cached moviepy-1.0.3-py3-none-any.whl\n",
      "Requirement already satisfied: ffmpeg==1.4 in j:\\anaconda\\lib\\site-packages (from fer) (1.4)\n",
      "Requirement already satisfied: Pillow in j:\\anaconda\\lib\\site-packages (from fer) (10.2.0)\n",
      "Requirement already satisfied: absl-py in j:\\anaconda\\lib\\site-packages (from keras>=2.0.0->fer) (2.1.0)\n",
      "Requirement already satisfied: rich in j:\\anaconda\\lib\\site-packages (from keras>=2.0.0->fer) (13.7.1)\n",
      "Requirement already satisfied: namex in j:\\anaconda\\lib\\site-packages (from keras>=2.0.0->fer) (0.0.8)\n",
      "Requirement already satisfied: h5py in j:\\anaconda\\lib\\site-packages (from keras>=2.0.0->fer) (3.11.0)\n",
      "Requirement already satisfied: optree in j:\\anaconda\\lib\\site-packages (from keras>=2.0.0->fer) (0.11.0)\n",
      "Requirement already satisfied: ml-dtypes in j:\\anaconda\\lib\\site-packages (from keras>=2.0.0->fer) (0.3.2)\n",
      "Requirement already satisfied: packaging in j:\\anaconda\\lib\\site-packages (from keras>=2.0.0->fer) (23.0)\n",
      "Requirement already satisfied: colorama in j:\\anaconda\\lib\\site-packages (from tqdm->transformers) (0.4.6)\n",
      "Requirement already satisfied: botocore<1.28.0,>=1.27.28 in j:\\anaconda\\lib\\site-packages (from boto3->transformers) (1.27.59)\n",
      "Requirement already satisfied: jmespath<2.0.0,>=0.7.1 in j:\\anaconda\\lib\\site-packages (from boto3->transformers) (0.10.0)\n",
      "Requirement already satisfied: s3transfer<0.7.0,>=0.6.0 in j:\\anaconda\\lib\\site-packages (from boto3->transformers) (0.6.0)\n",
      "Requirement already satisfied: torch<2.3.0,>=2.2.0 in j:\\anaconda\\lib\\site-packages (from facenet-pytorch->fer) (2.2.2)\n",
      "Collecting torchvision<0.18.0,>=0.17.0 (from facenet-pytorch->fer)\n",
      "  Obtaining dependency information for torchvision<0.18.0,>=0.17.0 from https://files.pythonhosted.org/packages/c6/75/d869f600fc33df8b8ca99943e165a4ca23b73c68dc1942098fde0a6b46f3/torchvision-0.17.2-cp311-cp311-win_amd64.whl.metadata\n",
      "  Using cached torchvision-0.17.2-cp311-cp311-win_amd64.whl.metadata (6.6 kB)\n",
      "Requirement already satisfied: charset-normalizer<4,>=2 in j:\\anaconda\\lib\\site-packages (from requests->transformers) (2.0.4)\n",
      "Requirement already satisfied: idna<4,>=2.5 in j:\\anaconda\\lib\\site-packages (from requests->transformers) (3.4)\n",
      "Requirement already satisfied: urllib3<3,>=1.21.1 in j:\\anaconda\\lib\\site-packages (from requests->transformers) (1.26.16)\n",
      "Requirement already satisfied: certifi>=2017.4.17 in j:\\anaconda\\lib\\site-packages (from requests->transformers) (2023.7.22)\n",
      "Requirement already satisfied: contourpy>=1.0.1 in j:\\anaconda\\lib\\site-packages (from matplotlib->fer) (1.0.5)\n",
      "Requirement already satisfied: cycler>=0.10 in j:\\anaconda\\lib\\site-packages (from matplotlib->fer) (0.11.0)\n",
      "Requirement already satisfied: fonttools>=4.22.0 in j:\\anaconda\\lib\\site-packages (from matplotlib->fer) (4.25.0)\n",
      "Requirement already satisfied: kiwisolver>=1.0.1 in j:\\anaconda\\lib\\site-packages (from matplotlib->fer) (1.4.4)\n",
      "Requirement already satisfied: pyparsing>=2.3.1 in j:\\anaconda\\lib\\site-packages (from matplotlib->fer) (3.0.9)\n",
      "Requirement already satisfied: python-dateutil>=2.7 in j:\\anaconda\\lib\\site-packages (from matplotlib->fer) (2.8.2)\n",
      "Requirement already satisfied: decorator<5.0,>=4.0.2 in j:\\anaconda\\lib\\site-packages (from moviepy->fer) (4.4.2)\n",
      "Collecting proglog<=1.0.0 (from moviepy->fer)\n",
      "  Obtaining dependency information for proglog<=1.0.0 from https://files.pythonhosted.org/packages/8b/f5/cab5cf6a540c31f5099043de0ae43990fd9cf66f75ecb5e9f254a4e4d4ee/proglog-0.1.10-py3-none-any.whl.metadata\n",
      "  Using cached proglog-0.1.10-py3-none-any.whl.metadata (639 bytes)\n",
      "Requirement already satisfied: imageio<3.0,>=2.5 in c:\\users\\jasha\\appdata\\roaming\\python\\python311\\site-packages (from moviepy->fer) (2.34.2)\n",
      "Requirement already satisfied: imageio-ffmpeg>=0.2.0 in j:\\anaconda\\lib\\site-packages (from moviepy->fer) (0.5.1)\n",
      "Requirement already satisfied: pytz>=2020.1 in j:\\anaconda\\lib\\site-packages (from pandas->fer) (2022.7)\n",
      "Requirement already satisfied: six in j:\\anaconda\\lib\\site-packages (from sacremoses->transformers) (1.16.0)\n",
      "Requirement already satisfied: click in j:\\anaconda\\lib\\site-packages (from sacremoses->transformers) (8.0.4)\n",
      "Requirement already satisfied: joblib in j:\\anaconda\\lib\\site-packages (from sacremoses->transformers) (1.2.0)\n",
      "Requirement already satisfied: setuptools in j:\\anaconda\\lib\\site-packages (from imageio-ffmpeg>=0.2.0->moviepy->fer) (68.0.0)\n",
      "Requirement already satisfied: filelock in j:\\anaconda\\lib\\site-packages (from torch<2.3.0,>=2.2.0->facenet-pytorch->fer) (3.9.0)\n",
      "Requirement already satisfied: typing-extensions>=4.8.0 in j:\\anaconda\\lib\\site-packages (from torch<2.3.0,>=2.2.0->facenet-pytorch->fer) (4.12.2)\n",
      "Requirement already satisfied: sympy in j:\\anaconda\\lib\\site-packages (from torch<2.3.0,>=2.2.0->facenet-pytorch->fer) (1.11.1)\n",
      "Requirement already satisfied: networkx in j:\\anaconda\\lib\\site-packages (from torch<2.3.0,>=2.2.0->facenet-pytorch->fer) (3.1)\n",
      "Requirement already satisfied: jinja2 in j:\\anaconda\\lib\\site-packages (from torch<2.3.0,>=2.2.0->facenet-pytorch->fer) (3.1.2)\n",
      "Requirement already satisfied: fsspec in j:\\anaconda\\lib\\site-packages (from torch<2.3.0,>=2.2.0->facenet-pytorch->fer) (2023.3.0)\n",
      "Requirement already satisfied: markdown-it-py>=2.2.0 in j:\\anaconda\\lib\\site-packages (from rich->keras>=2.0.0->fer) (2.2.0)\n",
      "Requirement already satisfied: pygments<3.0.0,>=2.13.0 in j:\\anaconda\\lib\\site-packages (from rich->keras>=2.0.0->fer) (2.15.1)\n",
      "Requirement already satisfied: mdurl~=0.1 in j:\\anaconda\\lib\\site-packages (from markdown-it-py>=2.2.0->rich->keras>=2.0.0->fer) (0.1.0)\n",
      "Requirement already satisfied: MarkupSafe>=2.0 in j:\\anaconda\\lib\\site-packages (from jinja2->torch<2.3.0,>=2.2.0->facenet-pytorch->fer) (2.1.1)\n",
      "Requirement already satisfied: mpmath>=0.19 in j:\\anaconda\\lib\\site-packages (from sympy->torch<2.3.0,>=2.2.0->facenet-pytorch->fer) (1.3.0)\n",
      "Using cached fer-22.5.1-py3-none-any.whl (1.5 MB)\n",
      "Using cached facenet_pytorch-2.6.0-py3-none-any.whl (1.9 MB)\n",
      "Using cached proglog-0.1.10-py3-none-any.whl (6.1 kB)\n",
      "Using cached torchvision-0.17.2-cp311-cp311-win_amd64.whl (1.2 MB)\n",
      "Installing collected packages: proglog, torchvision, moviepy, facenet-pytorch, fer\n",
      "Successfully installed facenet-pytorch-2.6.0 fer-22.5.1 moviepy-1.0.3 proglog-0.1.10 torchvision-0.17.2\n"
     ]
    }
   ],
   "source": [
    "pip install transformers opencv-python fer"
   ]
  },
  {
   "cell_type": "code",
   "execution_count": 1,
   "id": "15efc3bc",
   "metadata": {},
   "outputs": [
    {
     "name": "stdout",
     "output_type": "stream",
     "text": [
      "Requirement already satisfied: transformers in j:\\anaconda\\lib\\site-packages (4.43.3)\n",
      "Requirement already satisfied: filelock in j:\\anaconda\\lib\\site-packages (from transformers) (3.9.0)\n",
      "Requirement already satisfied: huggingface-hub<1.0,>=0.23.2 in j:\\anaconda\\lib\\site-packages (from transformers) (0.24.5)\n",
      "Requirement already satisfied: numpy>=1.17 in j:\\anaconda\\lib\\site-packages (from transformers) (1.26.4)\n",
      "Requirement already satisfied: packaging>=20.0 in j:\\anaconda\\lib\\site-packages (from transformers) (23.0)\n",
      "Requirement already satisfied: pyyaml>=5.1 in j:\\anaconda\\lib\\site-packages (from transformers) (6.0)\n",
      "Requirement already satisfied: regex!=2019.12.17 in j:\\anaconda\\lib\\site-packages (from transformers) (2022.7.9)\n",
      "Requirement already satisfied: requests in j:\\anaconda\\lib\\site-packages (from transformers) (2.31.0)\n",
      "Requirement already satisfied: safetensors>=0.4.1 in j:\\anaconda\\lib\\site-packages (from transformers) (0.4.3)\n",
      "Requirement already satisfied: tokenizers<0.20,>=0.19 in j:\\anaconda\\lib\\site-packages (from transformers) (0.19.1)\n",
      "Requirement already satisfied: tqdm>=4.27 in j:\\anaconda\\lib\\site-packages (from transformers) (4.65.0)\n",
      "Requirement already satisfied: fsspec>=2023.5.0 in j:\\anaconda\\lib\\site-packages (from huggingface-hub<1.0,>=0.23.2->transformers) (2024.6.1)\n",
      "Requirement already satisfied: typing-extensions>=3.7.4.3 in j:\\anaconda\\lib\\site-packages (from huggingface-hub<1.0,>=0.23.2->transformers) (4.12.2)\n",
      "Requirement already satisfied: colorama in j:\\anaconda\\lib\\site-packages (from tqdm>=4.27->transformers) (0.4.6)\n",
      "Requirement already satisfied: charset-normalizer<4,>=2 in j:\\anaconda\\lib\\site-packages (from requests->transformers) (2.0.4)\n",
      "Requirement already satisfied: idna<4,>=2.5 in j:\\anaconda\\lib\\site-packages (from requests->transformers) (3.4)\n",
      "Requirement already satisfied: urllib3<3,>=1.21.1 in j:\\anaconda\\lib\\site-packages (from requests->transformers) (1.26.16)\n",
      "Requirement already satisfied: certifi>=2017.4.17 in j:\\anaconda\\lib\\site-packages (from requests->transformers) (2023.7.22)\n",
      "Note: you may need to restart the kernel to use updated packages.\n"
     ]
    }
   ],
   "source": [
    "pip install --upgrade transformers"
   ]
  },
  {
   "cell_type": "code",
   "execution_count": null,
   "id": "c4a5a3ca",
   "metadata": {},
   "outputs": [
    {
     "name": "stdout",
     "output_type": "stream",
     "text": [
      "Facial Emotions: [{'box': [224, 174, 233, 287], 'emotions': {'angry': 0.0, 'disgust': 0.0, 'fear': 0.0, 'happy': 0.91, 'sad': 0.01, 'surprise': 0.0, 'neutral': 0.07}}]\n"
     ]
    }
   ],
   "source": [
    "import cv2\n",
    "from fer import FER\n",
    "from transformers import pipeline\n",
    "\n",
    "\n",
    "\n",
    "# Function to detect emotions from facial expressions\n",
    "def detect_emotion_in_image(image):\n",
    "    detector = FER(mtcnn=True)\n",
    "    emotions = detector.detect_emotions(image)\n",
    "    return emotions\n",
    "\n",
    "# Function to capture image from webcam\n",
    "def capture_image_from_camera():\n",
    "    cap = cv2.VideoCapture(0)\n",
    "    if not cap.isOpened():\n",
    "        print(\"Error: Could not open webcam\")\n",
    "        return None\n",
    "\n",
    "    ret, frame = cap.read()\n",
    "    if not ret:\n",
    "        print(\"Error: Could not read frame\")\n",
    "        return None\n",
    "\n",
    "    cap.release()\n",
    "    return frame\n",
    "\n",
    "\n",
    "\n",
    "# Example usage for facial emotion detection\n",
    "image = capture_image_from_camera()\n",
    "if image is not None:\n",
    "    emotions_face = detect_emotion_in_image(image)\n",
    "    print(\"Facial Emotions:\", emotions_face)\n",
    "\n",
    "    # Display the captured image\n",
    "    cv2.imshow('Captured Image', image)\n",
    "    cv2.waitKey(0)\n",
    "    cv2.destroyAllWindows()\n",
    "else:\n",
    "    print(\"No image captured\")\n"
   ]
  },
  {
   "cell_type": "code",
   "execution_count": null,
   "id": "211209d6",
   "metadata": {},
   "outputs": [],
   "source": []
  },
  {
   "cell_type": "code",
   "execution_count": null,
   "id": "c8bb4781",
   "metadata": {},
   "outputs": [],
   "source": []
  }
 ],
 "metadata": {
  "kernelspec": {
   "display_name": "Python 3 (ipykernel)",
   "language": "python",
   "name": "python3"
  },
  "language_info": {
   "codemirror_mode": {
    "name": "ipython",
    "version": 3
   },
   "file_extension": ".py",
   "mimetype": "text/x-python",
   "name": "python",
   "nbconvert_exporter": "python",
   "pygments_lexer": "ipython3",
   "version": "3.11.4"
  }
 },
 "nbformat": 4,
 "nbformat_minor": 5
}
